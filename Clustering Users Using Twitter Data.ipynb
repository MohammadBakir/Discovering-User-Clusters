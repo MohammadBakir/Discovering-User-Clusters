{
 "cells": [
  {
   "cell_type": "markdown",
   "metadata": {},
   "source": [
    "# Do More with Twitter Data\n",
    "\n",
    "Twitter is what's happening and what people are talking about right now, with hundreds of millions of Tweets sent each day.\n",
    "\n",
    "## Intro\n",
    "\n",
    "Often, when people think about conducting analysis on data from Twitter, they think analyzing Tweet content. While this is a rich collection of data, another important dimension in which to think about Twitter data analysis is that of its *users*. \n",
    "\n",
    "Twitter users post all sorts of interesting content in Tweets, but they also frequently share information about themselves by way of their account profile. If you visit [this author's profile](https://twitter.com/jrmontag), you'll find a handful of data points that are not Tweet-related, but user-related. Among other things, you might find geographical data, pointers to other websites, and a free-text profile description e.g. \"counts 🐥💬, drinks ☕️, takes 📷, climbs 🗻\". This is data that a user may not regularly Tweet about, and which you would miss if you were only looking at their posted content.\n",
    "\n",
    "\n",
    "In this notebook, we're going to look at how to use the Twitter Search APIs to collect data around a cultural topic, and then use the resulting data to learn something interesting about the users participating in that discussion. Specifically, we'll look for clusters of similar users among all of the users we identify. Along the way, we'll look at some of the ways that you can make the journey from the collection of JSON data, processing relevant elements of each Tweet, engineering features that can be used for model training, and finally, inspecting the results of our models to see what we've learned.\n",
    "\n",
    "\n",
    "This notebook will follow the outline below:\n",
    "\n",
    "- data collection\n",
    "- data inspection\n",
    "- feature engineering\n",
    "    - source data\n",
    "    - preprocessing\n",
    "    - tokenization\n",
    "    - stopwords\n",
    "    - vectorization\n",
    "- selecting and tuning a model\n",
    "- inspecting a model\n",
    "- model iteration\n",
    "\n",
    "## Environment Setup\n",
    "First, some imports."
   ]
  },
  {
   "cell_type": "code",
   "execution_count": 2,
   "metadata": {},
   "outputs": [
    {
     "data": {
      "text/html": [
       "\n",
       "    <div class=\"bk-root\">\n",
       "        <a href=\"https://bokeh.pydata.org\" target=\"_blank\" class=\"bk-logo bk-logo-small bk-logo-notebook\"></a>\n",
       "        <span id=\"1002\">Loading BokehJS ...</span>\n",
       "    </div>"
      ]
     },
     "metadata": {},
     "output_type": "display_data"
    },
    {
     "data": {
      "application/javascript": [
       "\n",
       "(function(root) {\n",
       "  function now() {\n",
       "    return new Date();\n",
       "  }\n",
       "\n",
       "  var force = true;\n",
       "\n",
       "  if (typeof root._bokeh_onload_callbacks === \"undefined\" || force === true) {\n",
       "    root._bokeh_onload_callbacks = [];\n",
       "    root._bokeh_is_loading = undefined;\n",
       "  }\n",
       "\n",
       "  var JS_MIME_TYPE = 'application/javascript';\n",
       "  var HTML_MIME_TYPE = 'text/html';\n",
       "  var EXEC_MIME_TYPE = 'application/vnd.bokehjs_exec.v0+json';\n",
       "  var CLASS_NAME = 'output_bokeh rendered_html';\n",
       "\n",
       "  /**\n",
       "   * Render data to the DOM node\n",
       "   */\n",
       "  function render(props, node) {\n",
       "    var script = document.createElement(\"script\");\n",
       "    node.appendChild(script);\n",
       "  }\n",
       "\n",
       "  /**\n",
       "   * Handle when an output is cleared or removed\n",
       "   */\n",
       "  function handleClearOutput(event, handle) {\n",
       "    var cell = handle.cell;\n",
       "\n",
       "    var id = cell.output_area._bokeh_element_id;\n",
       "    var server_id = cell.output_area._bokeh_server_id;\n",
       "    // Clean up Bokeh references\n",
       "    if (id != null && id in Bokeh.index) {\n",
       "      Bokeh.index[id].model.document.clear();\n",
       "      delete Bokeh.index[id];\n",
       "    }\n",
       "\n",
       "    if (server_id !== undefined) {\n",
       "      // Clean up Bokeh references\n",
       "      var cmd = \"from bokeh.io.state import curstate; print(curstate().uuid_to_server['\" + server_id + \"'].get_sessions()[0].document.roots[0]._id)\";\n",
       "      cell.notebook.kernel.execute(cmd, {\n",
       "        iopub: {\n",
       "          output: function(msg) {\n",
       "            var id = msg.content.text.trim();\n",
       "            if (id in Bokeh.index) {\n",
       "              Bokeh.index[id].model.document.clear();\n",
       "              delete Bokeh.index[id];\n",
       "            }\n",
       "          }\n",
       "        }\n",
       "      });\n",
       "      // Destroy server and session\n",
       "      var cmd = \"import bokeh.io.notebook as ion; ion.destroy_server('\" + server_id + \"')\";\n",
       "      cell.notebook.kernel.execute(cmd);\n",
       "    }\n",
       "  }\n",
       "\n",
       "  /**\n",
       "   * Handle when a new output is added\n",
       "   */\n",
       "  function handleAddOutput(event, handle) {\n",
       "    var output_area = handle.output_area;\n",
       "    var output = handle.output;\n",
       "\n",
       "    // limit handleAddOutput to display_data with EXEC_MIME_TYPE content only\n",
       "    if ((output.output_type != \"display_data\") || (!output.data.hasOwnProperty(EXEC_MIME_TYPE))) {\n",
       "      return\n",
       "    }\n",
       "\n",
       "    var toinsert = output_area.element.find(\".\" + CLASS_NAME.split(' ')[0]);\n",
       "\n",
       "    if (output.metadata[EXEC_MIME_TYPE][\"id\"] !== undefined) {\n",
       "      toinsert[toinsert.length - 1].firstChild.textContent = output.data[JS_MIME_TYPE];\n",
       "      // store reference to embed id on output_area\n",
       "      output_area._bokeh_element_id = output.metadata[EXEC_MIME_TYPE][\"id\"];\n",
       "    }\n",
       "    if (output.metadata[EXEC_MIME_TYPE][\"server_id\"] !== undefined) {\n",
       "      var bk_div = document.createElement(\"div\");\n",
       "      bk_div.innerHTML = output.data[HTML_MIME_TYPE];\n",
       "      var script_attrs = bk_div.children[0].attributes;\n",
       "      for (var i = 0; i < script_attrs.length; i++) {\n",
       "        toinsert[toinsert.length - 1].firstChild.setAttribute(script_attrs[i].name, script_attrs[i].value);\n",
       "      }\n",
       "      // store reference to server id on output_area\n",
       "      output_area._bokeh_server_id = output.metadata[EXEC_MIME_TYPE][\"server_id\"];\n",
       "    }\n",
       "  }\n",
       "\n",
       "  function register_renderer(events, OutputArea) {\n",
       "\n",
       "    function append_mime(data, metadata, element) {\n",
       "      // create a DOM node to render to\n",
       "      var toinsert = this.create_output_subarea(\n",
       "        metadata,\n",
       "        CLASS_NAME,\n",
       "        EXEC_MIME_TYPE\n",
       "      );\n",
       "      this.keyboard_manager.register_events(toinsert);\n",
       "      // Render to node\n",
       "      var props = {data: data, metadata: metadata[EXEC_MIME_TYPE]};\n",
       "      render(props, toinsert[toinsert.length - 1]);\n",
       "      element.append(toinsert);\n",
       "      return toinsert\n",
       "    }\n",
       "\n",
       "    /* Handle when an output is cleared or removed */\n",
       "    events.on('clear_output.CodeCell', handleClearOutput);\n",
       "    events.on('delete.Cell', handleClearOutput);\n",
       "\n",
       "    /* Handle when a new output is added */\n",
       "    events.on('output_added.OutputArea', handleAddOutput);\n",
       "\n",
       "    /**\n",
       "     * Register the mime type and append_mime function with output_area\n",
       "     */\n",
       "    OutputArea.prototype.register_mime_type(EXEC_MIME_TYPE, append_mime, {\n",
       "      /* Is output safe? */\n",
       "      safe: true,\n",
       "      /* Index of renderer in `output_area.display_order` */\n",
       "      index: 0\n",
       "    });\n",
       "  }\n",
       "\n",
       "  // register the mime type if in Jupyter Notebook environment and previously unregistered\n",
       "  if (root.Jupyter !== undefined) {\n",
       "    var events = require('base/js/events');\n",
       "    var OutputArea = require('notebook/js/outputarea').OutputArea;\n",
       "\n",
       "    if (OutputArea.prototype.mime_types().indexOf(EXEC_MIME_TYPE) == -1) {\n",
       "      register_renderer(events, OutputArea);\n",
       "    }\n",
       "  }\n",
       "\n",
       "  \n",
       "  if (typeof (root._bokeh_timeout) === \"undefined\" || force === true) {\n",
       "    root._bokeh_timeout = Date.now() + 5000;\n",
       "    root._bokeh_failed_load = false;\n",
       "  }\n",
       "\n",
       "  var NB_LOAD_WARNING = {'data': {'text/html':\n",
       "     \"<div style='background-color: #fdd'>\\n\"+\n",
       "     \"<p>\\n\"+\n",
       "     \"BokehJS does not appear to have successfully loaded. If loading BokehJS from CDN, this \\n\"+\n",
       "     \"may be due to a slow or bad network connection. Possible fixes:\\n\"+\n",
       "     \"</p>\\n\"+\n",
       "     \"<ul>\\n\"+\n",
       "     \"<li>re-rerun `output_notebook()` to attempt to load from CDN again, or</li>\\n\"+\n",
       "     \"<li>use INLINE resources instead, as so:</li>\\n\"+\n",
       "     \"</ul>\\n\"+\n",
       "     \"<code>\\n\"+\n",
       "     \"from bokeh.resources import INLINE\\n\"+\n",
       "     \"output_notebook(resources=INLINE)\\n\"+\n",
       "     \"</code>\\n\"+\n",
       "     \"</div>\"}};\n",
       "\n",
       "  function display_loaded() {\n",
       "    var el = document.getElementById(\"1002\");\n",
       "    if (el != null) {\n",
       "      el.textContent = \"BokehJS is loading...\";\n",
       "    }\n",
       "    if (root.Bokeh !== undefined) {\n",
       "      if (el != null) {\n",
       "        el.textContent = \"BokehJS \" + root.Bokeh.version + \" successfully loaded.\";\n",
       "      }\n",
       "    } else if (Date.now() < root._bokeh_timeout) {\n",
       "      setTimeout(display_loaded, 100)\n",
       "    }\n",
       "  }\n",
       "\n",
       "\n",
       "  function run_callbacks() {\n",
       "    try {\n",
       "      root._bokeh_onload_callbacks.forEach(function(callback) {\n",
       "        if (callback != null)\n",
       "          callback();\n",
       "      });\n",
       "    } finally {\n",
       "      delete root._bokeh_onload_callbacks\n",
       "    }\n",
       "    console.debug(\"Bokeh: all callbacks have finished\");\n",
       "  }\n",
       "\n",
       "  function load_libs(css_urls, js_urls, callback) {\n",
       "    if (css_urls == null) css_urls = [];\n",
       "    if (js_urls == null) js_urls = [];\n",
       "\n",
       "    root._bokeh_onload_callbacks.push(callback);\n",
       "    if (root._bokeh_is_loading > 0) {\n",
       "      console.debug(\"Bokeh: BokehJS is being loaded, scheduling callback at\", now());\n",
       "      return null;\n",
       "    }\n",
       "    if (js_urls == null || js_urls.length === 0) {\n",
       "      run_callbacks();\n",
       "      return null;\n",
       "    }\n",
       "    console.debug(\"Bokeh: BokehJS not loaded, scheduling load and callback at\", now());\n",
       "    root._bokeh_is_loading = css_urls.length + js_urls.length;\n",
       "\n",
       "    function on_load() {\n",
       "      root._bokeh_is_loading--;\n",
       "      if (root._bokeh_is_loading === 0) {\n",
       "        console.debug(\"Bokeh: all BokehJS libraries/stylesheets loaded\");\n",
       "        run_callbacks()\n",
       "      }\n",
       "    }\n",
       "\n",
       "    function on_error() {\n",
       "      console.error(\"failed to load \" + url);\n",
       "    }\n",
       "\n",
       "    for (var i = 0; i < css_urls.length; i++) {\n",
       "      var url = css_urls[i];\n",
       "      const element = document.createElement(\"link\");\n",
       "      element.onload = on_load;\n",
       "      element.onerror = on_error;\n",
       "      element.rel = \"stylesheet\";\n",
       "      element.type = \"text/css\";\n",
       "      element.href = url;\n",
       "      console.debug(\"Bokeh: injecting link tag for BokehJS stylesheet: \", url);\n",
       "      document.body.appendChild(element);\n",
       "    }\n",
       "\n",
       "    for (var i = 0; i < js_urls.length; i++) {\n",
       "      var url = js_urls[i];\n",
       "      var element = document.createElement('script');\n",
       "      element.onload = on_load;\n",
       "      element.onerror = on_error;\n",
       "      element.async = false;\n",
       "      element.src = url;\n",
       "      console.debug(\"Bokeh: injecting script tag for BokehJS library: \", url);\n",
       "      document.head.appendChild(element);\n",
       "    }\n",
       "  };var element = document.getElementById(\"1002\");\n",
       "  if (element == null) {\n",
       "    console.error(\"Bokeh: ERROR: autoload.js configured with elementid '1002' but no matching script tag was found. \")\n",
       "    return false;\n",
       "  }\n",
       "\n",
       "  function inject_raw_css(css) {\n",
       "    const element = document.createElement(\"style\");\n",
       "    element.appendChild(document.createTextNode(css));\n",
       "    document.body.appendChild(element);\n",
       "  }\n",
       "\n",
       "  var js_urls = [\"https://cdn.pydata.org/bokeh/release/bokeh-1.1.0.min.js\", \"https://cdn.pydata.org/bokeh/release/bokeh-widgets-1.1.0.min.js\", \"https://cdn.pydata.org/bokeh/release/bokeh-tables-1.1.0.min.js\", \"https://cdn.pydata.org/bokeh/release/bokeh-gl-1.1.0.min.js\"];\n",
       "  var css_urls = [\"https://cdn.pydata.org/bokeh/release/bokeh-1.1.0.min.css\", \"https://cdn.pydata.org/bokeh/release/bokeh-widgets-1.1.0.min.css\", \"https://cdn.pydata.org/bokeh/release/bokeh-tables-1.1.0.min.css\"];\n",
       "\n",
       "  var inline_js = [\n",
       "    function(Bokeh) {\n",
       "      Bokeh.set_log_level(\"info\");\n",
       "    },\n",
       "    \n",
       "    function(Bokeh) {\n",
       "      \n",
       "    },\n",
       "    function(Bokeh) {} // ensure no trailing comma for IE\n",
       "  ];\n",
       "\n",
       "  function run_inline_js() {\n",
       "    \n",
       "    if ((root.Bokeh !== undefined) || (force === true)) {\n",
       "      for (var i = 0; i < inline_js.length; i++) {\n",
       "        inline_js[i].call(root, root.Bokeh);\n",
       "      }if (force === true) {\n",
       "        display_loaded();\n",
       "      }} else if (Date.now() < root._bokeh_timeout) {\n",
       "      setTimeout(run_inline_js, 100);\n",
       "    } else if (!root._bokeh_failed_load) {\n",
       "      console.log(\"Bokeh: BokehJS failed to load within specified timeout.\");\n",
       "      root._bokeh_failed_load = true;\n",
       "    } else if (force !== true) {\n",
       "      var cell = $(document.getElementById(\"1002\")).parents('.cell').data().cell;\n",
       "      cell.output_area.append_execute_result(NB_LOAD_WARNING)\n",
       "    }\n",
       "\n",
       "  }\n",
       "\n",
       "  if (root._bokeh_is_loading === 0) {\n",
       "    console.debug(\"Bokeh: BokehJS loaded, going straight to plotting\");\n",
       "    run_inline_js();\n",
       "  } else {\n",
       "    load_libs(css_urls, js_urls, function() {\n",
       "      console.debug(\"Bokeh: BokehJS plotting callback run at\", now());\n",
       "      run_inline_js();\n",
       "    });\n",
       "  }\n",
       "}(window));"
      ],
      "application/vnd.bokehjs_load.v0+json": "\n(function(root) {\n  function now() {\n    return new Date();\n  }\n\n  var force = true;\n\n  if (typeof root._bokeh_onload_callbacks === \"undefined\" || force === true) {\n    root._bokeh_onload_callbacks = [];\n    root._bokeh_is_loading = undefined;\n  }\n\n  \n\n  \n  if (typeof (root._bokeh_timeout) === \"undefined\" || force === true) {\n    root._bokeh_timeout = Date.now() + 5000;\n    root._bokeh_failed_load = false;\n  }\n\n  var NB_LOAD_WARNING = {'data': {'text/html':\n     \"<div style='background-color: #fdd'>\\n\"+\n     \"<p>\\n\"+\n     \"BokehJS does not appear to have successfully loaded. If loading BokehJS from CDN, this \\n\"+\n     \"may be due to a slow or bad network connection. Possible fixes:\\n\"+\n     \"</p>\\n\"+\n     \"<ul>\\n\"+\n     \"<li>re-rerun `output_notebook()` to attempt to load from CDN again, or</li>\\n\"+\n     \"<li>use INLINE resources instead, as so:</li>\\n\"+\n     \"</ul>\\n\"+\n     \"<code>\\n\"+\n     \"from bokeh.resources import INLINE\\n\"+\n     \"output_notebook(resources=INLINE)\\n\"+\n     \"</code>\\n\"+\n     \"</div>\"}};\n\n  function display_loaded() {\n    var el = document.getElementById(\"1002\");\n    if (el != null) {\n      el.textContent = \"BokehJS is loading...\";\n    }\n    if (root.Bokeh !== undefined) {\n      if (el != null) {\n        el.textContent = \"BokehJS \" + root.Bokeh.version + \" successfully loaded.\";\n      }\n    } else if (Date.now() < root._bokeh_timeout) {\n      setTimeout(display_loaded, 100)\n    }\n  }\n\n\n  function run_callbacks() {\n    try {\n      root._bokeh_onload_callbacks.forEach(function(callback) {\n        if (callback != null)\n          callback();\n      });\n    } finally {\n      delete root._bokeh_onload_callbacks\n    }\n    console.debug(\"Bokeh: all callbacks have finished\");\n  }\n\n  function load_libs(css_urls, js_urls, callback) {\n    if (css_urls == null) css_urls = [];\n    if (js_urls == null) js_urls = [];\n\n    root._bokeh_onload_callbacks.push(callback);\n    if (root._bokeh_is_loading > 0) {\n      console.debug(\"Bokeh: BokehJS is being loaded, scheduling callback at\", now());\n      return null;\n    }\n    if (js_urls == null || js_urls.length === 0) {\n      run_callbacks();\n      return null;\n    }\n    console.debug(\"Bokeh: BokehJS not loaded, scheduling load and callback at\", now());\n    root._bokeh_is_loading = css_urls.length + js_urls.length;\n\n    function on_load() {\n      root._bokeh_is_loading--;\n      if (root._bokeh_is_loading === 0) {\n        console.debug(\"Bokeh: all BokehJS libraries/stylesheets loaded\");\n        run_callbacks()\n      }\n    }\n\n    function on_error() {\n      console.error(\"failed to load \" + url);\n    }\n\n    for (var i = 0; i < css_urls.length; i++) {\n      var url = css_urls[i];\n      const element = document.createElement(\"link\");\n      element.onload = on_load;\n      element.onerror = on_error;\n      element.rel = \"stylesheet\";\n      element.type = \"text/css\";\n      element.href = url;\n      console.debug(\"Bokeh: injecting link tag for BokehJS stylesheet: \", url);\n      document.body.appendChild(element);\n    }\n\n    for (var i = 0; i < js_urls.length; i++) {\n      var url = js_urls[i];\n      var element = document.createElement('script');\n      element.onload = on_load;\n      element.onerror = on_error;\n      element.async = false;\n      element.src = url;\n      console.debug(\"Bokeh: injecting script tag for BokehJS library: \", url);\n      document.head.appendChild(element);\n    }\n  };var element = document.getElementById(\"1002\");\n  if (element == null) {\n    console.error(\"Bokeh: ERROR: autoload.js configured with elementid '1002' but no matching script tag was found. \")\n    return false;\n  }\n\n  function inject_raw_css(css) {\n    const element = document.createElement(\"style\");\n    element.appendChild(document.createTextNode(css));\n    document.body.appendChild(element);\n  }\n\n  var js_urls = [\"https://cdn.pydata.org/bokeh/release/bokeh-1.1.0.min.js\", \"https://cdn.pydata.org/bokeh/release/bokeh-widgets-1.1.0.min.js\", \"https://cdn.pydata.org/bokeh/release/bokeh-tables-1.1.0.min.js\", \"https://cdn.pydata.org/bokeh/release/bokeh-gl-1.1.0.min.js\"];\n  var css_urls = [\"https://cdn.pydata.org/bokeh/release/bokeh-1.1.0.min.css\", \"https://cdn.pydata.org/bokeh/release/bokeh-widgets-1.1.0.min.css\", \"https://cdn.pydata.org/bokeh/release/bokeh-tables-1.1.0.min.css\"];\n\n  var inline_js = [\n    function(Bokeh) {\n      Bokeh.set_log_level(\"info\");\n    },\n    \n    function(Bokeh) {\n      \n    },\n    function(Bokeh) {} // ensure no trailing comma for IE\n  ];\n\n  function run_inline_js() {\n    \n    if ((root.Bokeh !== undefined) || (force === true)) {\n      for (var i = 0; i < inline_js.length; i++) {\n        inline_js[i].call(root, root.Bokeh);\n      }if (force === true) {\n        display_loaded();\n      }} else if (Date.now() < root._bokeh_timeout) {\n      setTimeout(run_inline_js, 100);\n    } else if (!root._bokeh_failed_load) {\n      console.log(\"Bokeh: BokehJS failed to load within specified timeout.\");\n      root._bokeh_failed_load = true;\n    } else if (force !== true) {\n      var cell = $(document.getElementById(\"1002\")).parents('.cell').data().cell;\n      cell.output_area.append_execute_result(NB_LOAD_WARNING)\n    }\n\n  }\n\n  if (root._bokeh_is_loading === 0) {\n    console.debug(\"Bokeh: BokehJS loaded, going straight to plotting\");\n    run_inline_js();\n  } else {\n    load_libs(css_urls, js_urls, function() {\n      console.debug(\"Bokeh: BokehJS plotting callback run at\", now());\n      run_inline_js();\n    });\n  }\n}(window));"
     },
     "metadata": {},
     "output_type": "display_data"
    }
   ],
   "source": [
    "from collections import Counter\n",
    "import itertools as it\n",
    "import json\n",
    "import logging\n",
    "import os\n",
    "import re\n",
    "import string\n",
    "import sys\n",
    "\n",
    "from bokeh.plotting import figure, ColumnDataSource, show, output_notebook; output_notebook()\n",
    "from bokeh.models import HoverTool\n",
    "from bokeh.palettes import brewer, Viridis256\n",
    "import hdbscan\n",
    "import matplotlib.pyplot as plt\n",
    "from nltk.util import everygrams\n",
    "from nltk.tokenize.casual import TweetTokenizer\n",
    "from nltk.tokenize.treebank import TreebankWordDetokenizer\n",
    "from nltk.tokenize import word_tokenize\n",
    "from nltk.corpus import stopwords\n",
    "import numpy as np\n",
    "import pandas as pd\n",
    "import seaborn as sns\n",
    "from sklearn.externals import joblib\n",
    "from sklearn.cluster import KMeans\n",
    "from sklearn.feature_extraction.text import TfidfVectorizer\n",
    "from sklearn.metrics import silhouette_score\n",
    "from sklearn.decomposition import TruncatedSVD\n",
    "from stop_words import get_stop_words\n",
    "from tweet_parser.tweet import Tweet\n",
    "from searchtweets import load_credentials, gen_rule_payload, collect_results\n",
    "# from MulticoreTSNE import MulticoreTSNE as TSNE\n",
    "import yaml"
   ]
  },
  {
   "cell_type": "markdown",
   "metadata": {},
   "source": [
    "# Data Collection\n",
    "\n",
    "We'll use the [2019 Sep Democratic Debate](https://www.youtube.com/watch?v=2UWVO0Trd1c) as our topic. Ultimately we are interested in those users who are Tweeting about the debate, so we start by looking for relevant Tweets and then we'll dig into the users behind those Tweets.\n",
    "\n",
    "When in doubt, it's a reasonable strategy to start broad and simple with our rule - in this case we can simply use \"democraticdebate\". After inspecting the data we can refine the rule (and resulting data) in the name of increasing it's relevance to the task at hand."
   ]
  },
  {
   "cell_type": "code",
   "execution_count": 3,
   "metadata": {},
   "outputs": [],
   "source": [
    "import json\n",
    "import tweepy\n",
    "from access_keys import ACCESS_TOKEN, ACCESS_SECRET, CONSUMER_KEY, CONSUMER_SECRET\n",
    "import csv\n",
    "import datetime"
   ]
  },
  {
   "cell_type": "code",
   "execution_count": 4,
   "metadata": {},
   "outputs": [],
   "source": [
    "#Function to Extract Tweets\n",
    "def get_topic_tweets(file_name, topic=None, date_start=None, date_end=None, num_tweets = 1000):\n",
    "    \n",
    "    \"\"\"\n",
    "    Function to call twitter api for tweet data using tweepy\n",
    "    file_name: user required name as .csv\n",
    "    topic: topic of interest typically begins with #\n",
    "    date_start: start date as string 'YYYY-MM-DD'\n",
    "    date_end:   end date as string 'YYYY-MM-DD'\n",
    "    num_tweets: number of tweets to request from API\n",
    "    \"\"\"\n",
    "    \n",
    "    #Authrization to consumer key and consumer secret\n",
    "    auth = tweepy.OAuthHandler(CONSUMER_KEY, CONSUMER_SECRET)\n",
    "    \n",
    "    #Access to user's access key and access secret\n",
    "    auth.set_access_token(ACCESS_TOKEN, ACCESS_SECRET)\n",
    "    \n",
    "    #Calling api\n",
    "    api = tweepy.API(auth,wait_on_rate_limit=True, wait_on_rate_limit_notify=True)\n",
    "    \n",
    "    #Number of tweets to be extracted\n",
    "    number_of_tweets = num_tweets  \n",
    "    \n",
    "    \n",
    "    #Open/Create a file to append data\n",
    "    with open(file_name, 'w', encoding='UTF-8') as outfile:\n",
    "    \n",
    "        csvWriter = csv.writer(outfile)\n",
    "        \n",
    "        #Define Column Names To Write To\n",
    "        csvWriter.writerow(['time_stamp','tweet_text', 'url', 'user_id', 'user_name', 'user_screen_name',\n",
    "                            'user_bio','user_location'])\n",
    "        \n",
    "        #Topic_To_Choose_From\n",
    "        for tweet in tweepy.Cursor(api.search, q=topic, lang='en', tweet_mode=\"extended\", \n",
    "                                   include_entities=True, since=date_start, until=date_end).items(num_tweets): \n",
    "            \n",
    "            #Write Data to CSV \n",
    "            csvWriter.writerow([tweet.created_at, tweet.full_text, tweet.entities['urls'], \n",
    "                                tweet.user.id, tweet.user.name, tweet.user.screen_name, tweet.user.description, tweet.user.location])"
   ]
  },
  {
   "cell_type": "code",
   "execution_count": null,
   "metadata": {},
   "outputs": [],
   "source": [
    "get_topic_tweets(file_name=\"election_2020_1000.csv\",topic='DemocraticDebate ', date_start = '2019-09-12', date_end = '2019-09-13', num_tweets=1000)"
   ]
  },
  {
   "cell_type": "markdown",
   "metadata": {},
   "source": [
    "# Data Inspection\n",
    "\n",
    "Great, now we have some data to work with. Importantly, the first step is always to inspect the data. Is it what you were expecting? Is it relevant? Are there sources of noise you can negate in your rule? All of these issues can be addressed by iterating on your filters and inspecting the results.\n",
    "\n",
    "Additionally, since we intentionally capped the number of total Tweets, it's good to inspect the time series of data to see what range it covers.\n",
    "\n",
    "Since Tweets are automatically parsed we can use some of the convenient attributes to pull out the text data. "
   ]
  },
  {
   "cell_type": "code",
   "execution_count": 5,
   "metadata": {},
   "outputs": [
    {
     "data": {
      "text/html": [
       "<div>\n",
       "<style scoped>\n",
       "    .dataframe tbody tr th:only-of-type {\n",
       "        vertical-align: middle;\n",
       "    }\n",
       "\n",
       "    .dataframe tbody tr th {\n",
       "        vertical-align: top;\n",
       "    }\n",
       "\n",
       "    .dataframe thead th {\n",
       "        text-align: right;\n",
       "    }\n",
       "</style>\n",
       "<table border=\"1\" class=\"dataframe\">\n",
       "  <thead>\n",
       "    <tr style=\"text-align: right;\">\n",
       "      <th></th>\n",
       "      <th>time_stamp</th>\n",
       "      <th>tweet_text</th>\n",
       "      <th>url</th>\n",
       "      <th>user_id</th>\n",
       "      <th>user_name</th>\n",
       "      <th>user_screen_name</th>\n",
       "      <th>user_bio</th>\n",
       "      <th>user_location</th>\n",
       "    </tr>\n",
       "  </thead>\n",
       "  <tbody>\n",
       "    <tr>\n",
       "      <th>0</th>\n",
       "      <td>2019-09-12 23:59:59</td>\n",
       "      <td>RT @cthulhu4america: Yet another night full of...</td>\n",
       "      <td>[]</td>\n",
       "      <td>3092678020</td>\n",
       "      <td>Darick Oswalt ✈️ 🔜 TwitchCon</td>\n",
       "      <td>thatCHARM3R</td>\n",
       "      <td>Freelance #esports talent. #Twitch &amp; #Discord ...</td>\n",
       "      <td>Michigan, USA</td>\n",
       "    </tr>\n",
       "    <tr>\n",
       "      <th>1</th>\n",
       "      <td>2019-09-12 23:59:59</td>\n",
       "      <td>RT @YangGang20206: I'm loving everyone's #MyYa...</td>\n",
       "      <td>[]</td>\n",
       "      <td>701111114931707905</td>\n",
       "      <td>StarshipYang</td>\n",
       "      <td>RichardJKilshaw</td>\n",
       "      <td>#YangGang #yangbot   1 Elon Musk puts YANG2020...</td>\n",
       "      <td>Portland, OR</td>\n",
       "    </tr>\n",
       "    <tr>\n",
       "      <th>2</th>\n",
       "      <td>2019-09-12 23:59:58</td>\n",
       "      <td>RT @KyleKulinski: ABC News hosts are saying de...</td>\n",
       "      <td>[]</td>\n",
       "      <td>2596659379</td>\n",
       "      <td>Cooper</td>\n",
       "      <td>pripensi_en</td>\n",
       "      <td>college student, civil libertarian, humanist, ...</td>\n",
       "      <td>United States</td>\n",
       "    </tr>\n",
       "    <tr>\n",
       "      <th>3</th>\n",
       "      <td>2019-09-12 23:59:58</td>\n",
       "      <td>RT @KyleKulinski: ABC News hosts are saying de...</td>\n",
       "      <td>[]</td>\n",
       "      <td>2916428957</td>\n",
       "      <td>Eric Gillikin 🌹</td>\n",
       "      <td>Eriquimus_Prime</td>\n",
       "      <td>A friend to most. Retweets + links are not end...</td>\n",
       "      <td>United States</td>\n",
       "    </tr>\n",
       "    <tr>\n",
       "      <th>4</th>\n",
       "      <td>2019-09-12 23:59:58</td>\n",
       "      <td>RT @DrewBiemer: It’s clear that @TheDemocrats ...</td>\n",
       "      <td>[]</td>\n",
       "      <td>3582790755</td>\n",
       "      <td>DejaVu</td>\n",
       "      <td>Anonymous603207</td>\n",
       "      <td>NaN</td>\n",
       "      <td>NaN</td>\n",
       "    </tr>\n",
       "  </tbody>\n",
       "</table>\n",
       "</div>"
      ],
      "text/plain": [
       "            time_stamp                                         tweet_text url  \\\n",
       "0  2019-09-12 23:59:59  RT @cthulhu4america: Yet another night full of...  []   \n",
       "1  2019-09-12 23:59:59  RT @YangGang20206: I'm loving everyone's #MyYa...  []   \n",
       "2  2019-09-12 23:59:58  RT @KyleKulinski: ABC News hosts are saying de...  []   \n",
       "3  2019-09-12 23:59:58  RT @KyleKulinski: ABC News hosts are saying de...  []   \n",
       "4  2019-09-12 23:59:58  RT @DrewBiemer: It’s clear that @TheDemocrats ...  []   \n",
       "\n",
       "              user_id                     user_name user_screen_name  \\\n",
       "0          3092678020  Darick Oswalt ✈️ 🔜 TwitchCon      thatCHARM3R   \n",
       "1  701111114931707905                  StarshipYang  RichardJKilshaw   \n",
       "2          2596659379                        Cooper      pripensi_en   \n",
       "3          2916428957               Eric Gillikin 🌹  Eriquimus_Prime   \n",
       "4          3582790755                        DejaVu  Anonymous603207   \n",
       "\n",
       "                                            user_bio  user_location  \n",
       "0  Freelance #esports talent. #Twitch & #Discord ...  Michigan, USA  \n",
       "1  #YangGang #yangbot   1 Elon Musk puts YANG2020...   Portland, OR  \n",
       "2  college student, civil libertarian, humanist, ...  United States  \n",
       "3  A friend to most. Retweets + links are not end...  United States  \n",
       "4                                                NaN            NaN  "
      ]
     },
     "execution_count": 5,
     "metadata": {},
     "output_type": "execute_result"
    }
   ],
   "source": [
    "#Read in tweet data\n",
    "tweet_df = pd.read_csv('election_2020_1000.csv')\n",
    "\n",
    "tweet_df.head()"
   ]
  },
  {
   "cell_type": "code",
   "execution_count": 6,
   "metadata": {},
   "outputs": [
    {
     "data": {
      "text/plain": [
       "time_stamp          object\n",
       "tweet_text          object\n",
       "url                 object\n",
       "user_id              int64\n",
       "user_name           object\n",
       "user_screen_name    object\n",
       "user_bio            object\n",
       "user_location       object\n",
       "dtype: object"
      ]
     },
     "execution_count": 6,
     "metadata": {},
     "output_type": "execute_result"
    }
   ],
   "source": [
    "tweet_df.dtypes"
   ]
  },
  {
   "cell_type": "code",
   "execution_count": 7,
   "metadata": {},
   "outputs": [],
   "source": [
    "#Convert object type to datetime stamp\n",
    "tweet_df['time_stamp'] = pd.to_datetime(tweet_df['time_stamp'], errors='coerce');"
   ]
  },
  {
   "cell_type": "code",
   "execution_count": 8,
   "metadata": {
    "scrolled": false
   },
   "outputs": [
    {
     "data": {
      "image/png": "[encoded data removed]",
      "text/plain": [
       "<Figure size 720x504 with 1 Axes>"
      ]
     },
     "metadata": {
      "needs_background": "light"
     },
     "output_type": "display_data"
    }
   ],
   "source": [
    "#Plot a time series\n",
    "(tweet_df[['time_stamp','tweet_text']].set_index('time_stamp')\n",
    " # 'T' = minute\n",
    " .resample('T')\n",
    " .count()\n",
    " .plot(figsize=(10,7), label='1-Hour Counts', title='Hourly Tweet Count')\n",
    ");"
   ]
  },
  {
   "cell_type": "markdown",
   "metadata": {},
   "source": [
    "Given the `num_tweets` we added we have a short time span for now. Our data colletion starts at the end date and works backwords until hitting the maximum result count. That's OK, we'll collect more data later.\n",
    "\n",
    "With this small sample, let's do a bit of rough text processing to look at the text we're seeing in these Tweets. A simple - and often, informative - first way to inspect the content of text data is through looking at the most common n-grams. In language modeling, an \"n-gram\" is a contiguous collection of some n items - in languages where appropriate, this is often white-space separated words. For example, two-grams in the sentence \"The dog ate my homework\" would be \"the dog\", \"dog ate\", \"ate my\", \"my homework\".\n",
    "\n",
    "We'll use the all_text attribute of our Tweet objects to simply pull in all the text, regardless of whether it was a Retweet, original Tweet, or Quote Tweet. Then we'll concatenate all the Tweet text together (from the whole corpus), split it up into words using an open-source tokenizer from NLTK (we'll talk more about this, shortly), remove some punctuation, and then simply count the most common set of n-grams.\n",
    "\n",
    "This is a very rough (but quick) way of getting a feel for the text data we have. If we see content that we don't think is relevant, we can go back and modify our rule."
   ]
  },
  {
   "cell_type": "markdown",
   "metadata": {},
   "source": [
    "### Clean Words"
   ]
  },
  {
   "cell_type": "code",
   "execution_count": 9,
   "metadata": {},
   "outputs": [
    {
     "name": "stdout",
     "output_type": "stream",
     "text": [
      "\u001b[33mDownloading emoji data ...\u001b[0m\n",
      "\u001b[92m... OK\u001b[0m (Got response in 0.29 seconds)\n",
      "\u001b[33mWriting emoji data to C:\\Users\\moham\\.demoji/codes.json ...\u001b[0m\n",
      "\u001b[92m... OK\u001b[0m\n"
     ]
    }
   ],
   "source": [
    "# Text preprocessing steps - remove numbers, captial letters and punctuation from article text and title\n",
    "import re\n",
    "import string\n",
    "import demoji #Will remove and place all emoji's in individual column for analysis\n",
    "demoji.download_codes() \n",
    "#The emoji list itself is frequently updated and changed. Periodically update local cache.\n",
    "\n",
    "def Find_Url(string): \n",
    "    \"\"\"\n",
    "    Function to find URLs within tweets using regex expression\n",
    "    \"\"\"\n",
    "    url = re.sub('http[s]?://(?:[a-zA-Z]|[0-9]|[$-_@.&+] \\\n",
    "    |[!*\\(\\), ]|(?:%[0-9a-fA-F][0-9a-fA-F]))+', '', string) \n",
    "    \n",
    "    return url\n",
    "\n",
    "#Extract Emojis\n",
    "find_emoji = lambda x: demoji.findall(x)\n",
    "tweet_df['tweet_emoji'] = tweet_df.tweet_text.map(find_emoji)\n",
    "\n",
    "#Remove urls\n",
    "tweet_df.tweet_text = tweet_df.tweet_text.apply(Find_Url)\n",
    "\n",
    "#Remove Usernames, topics, references\n",
    "remove_username = lambda x: re.sub('RT @[^\\s]+','',x)\n",
    "remove_at_sign = lambda x: x.replace('@','') #Will Maintain Canidate Name\n",
    "remove_topic = lambda x: re.sub('#[^\\s]+','',x)\n",
    "remove_emoji = lambda x: demoji.replace(x,'')\n",
    "\n",
    "#Strip text of punctuation, and extract spaces\n",
    "\n",
    "alphanumeric = lambda x: re.sub('\\w*\\d\\w*', ' ', x)\n",
    "punc_lower = lambda x: re.sub('[%s]' %re.escape(string.punctuation), ' ', x.lower())\n",
    "odd_replacements = {\"…\": \"''\",\"“\": \"''\",\"’\": \"''\",\"”\": \"''\", \"''\":''}\n",
    "remove_odd = lambda x: \"\".join([odd_replacements.get(c,c) for c in x])\n",
    "\n",
    "#Remove ABC News from text as the station broadcasted the debate and will most likely be referenced frequently\n",
    "excess_words =['abc', 'news']\n",
    "remove_abc = lambda x: ' '.join([word for word in x.split() if word not in (excess_words)])"
   ]
  },
  {
   "cell_type": "code",
   "execution_count": 10,
   "metadata": {},
   "outputs": [],
   "source": [
    "#Apply Filters Function\n",
    "def apply_fitlers(df =None, df_input_column_name =None, df_output_column_name=None):\n",
    "    \"\"\" Function to apply cleaning filters defined above\n",
    "        df : data frame \n",
    "        df_input_column_name : dataframe column filters will be applied to as str\n",
    "        df_output_column_name: output dataframe column as str\n",
    "    \"\"\"\n",
    "    df[df_output_column_name] = df[df_input_column_name].map(remove_username).map(remove_at_sign).map(remove_topic) \\\n",
    "    .map(remove_emoji).map(remove_odd).map(alphanumeric).map(punc_lower).map(remove_abc)\n",
    "    \n",
    "    return df"
   ]
  },
  {
   "cell_type": "code",
   "execution_count": 11,
   "metadata": {},
   "outputs": [],
   "source": [
    "apply_fitlers(df=tweet_df, df_input_column_name='tweet_text', df_output_column_name='tweet_text_cleaned');"
   ]
  },
  {
   "cell_type": "markdown",
   "metadata": {},
   "source": [
    "### Tokenize and Remove StopWords"
   ]
  },
  {
   "cell_type": "code",
   "execution_count": 12,
   "metadata": {},
   "outputs": [],
   "source": [
    "def remove_lang_stop_words_and_tokenize(lang ='english',df=None,column=None):\n",
    "    \"\"\"\n",
    "    Function to remove langauge stop words and tokenize column text\n",
    "    language: Default is english, 21+ languages supported by NLTK, choose language of choice\n",
    "    df: text containing dataframe\n",
    "    column: column to modify as string example 'tweet_text'\n",
    "    \"\"\"\n",
    "    # Define English Stop Words\n",
    "    stop_words = set(stopwords.words(lang))\n",
    "    \n",
    "    #Tokenize Text and remove english stop words\n",
    "    df[column] = df[column].apply(word_tokenize).apply(lambda x: [item for item in x if item not in stop_words])\n",
    "    \n",
    "    #Detokenize text back into string\n",
    "    detokenize_text = lambda x: TreebankWordDetokenizer().detokenize(x)\n",
    "    \n",
    "    df[column] = df[column].map(detokenize_text)\n",
    "    \n",
    "    return df"
   ]
  },
  {
   "cell_type": "code",
   "execution_count": 13,
   "metadata": {},
   "outputs": [],
   "source": [
    "#Tokenize Text and remove english stop words\n",
    "remove_lang_stop_words_and_tokenize(lang='english',df=tweet_df,column='tweet_text_cleaned');"
   ]
  },
  {
   "cell_type": "markdown",
   "metadata": {},
   "source": [
    "### Check n-gram tweets without stop words "
   ]
  },
  {
   "cell_type": "code",
   "execution_count": 14,
   "metadata": {},
   "outputs": [],
   "source": [
    "def get_all_tokens(tweet_list):\n",
    "    \"\"\"\n",
    "    Helper function to generate a list of text tokens from concatenating\n",
    "    all of the text contained in Tweets in 'tweet_list'\n",
    "    \"\"\"\n",
    "    \n",
    "    #concat entire corpus\n",
    "    all_text = tweet_list.str.cat(sep=' ')\n",
    "    \n",
    "    #remove \n",
    "    \n",
    "    #tokenize\n",
    "    tokens = (TweetTokenizer(preserve_case=False,\n",
    "                            reduce_len=True,\n",
    "                            strip_handles=False)\n",
    "             .tokenize(all_text))\n",
    "    #Remove symbol-only tokens for now\n",
    "    tokens = [tok for tok in tokens if not tok in string.punctuation]\n",
    "    return tokens"
   ]
  },
  {
   "cell_type": "code",
   "execution_count": 15,
   "metadata": {},
   "outputs": [],
   "source": [
    "tweets_without_stopwrds = tweet_df.tweet_text_cleaned"
   ]
  },
  {
   "cell_type": "code",
   "execution_count": 16,
   "metadata": {},
   "outputs": [
    {
     "name": "stdout",
     "output_type": "stream",
     "text": [
      "Total Number Of Tokens: 8883\n"
     ]
    }
   ],
   "source": [
    "tokens = get_all_tokens(tweets_without_stopwrds)\n",
    "\n",
    "print('Total Number Of Tokens: {}'.format(len(tokens)))"
   ]
  },
  {
   "cell_type": "code",
   "execution_count": 17,
   "metadata": {},
   "outputs": [
    {
     "data": {
      "text/plain": [
       "[(('turned', 'first'), 65),\n",
       " (('first', 'thing'), 65),\n",
       " (('thing', 'hear'), 65),\n",
       " (('hear', 'debate'), 65),\n",
       " (('debate', 'policy'), 65),\n",
       " (('policy', 'specifics'), 65),\n",
       " (('specifics', 'energy'), 65),\n",
       " (('energy', 'id'), 65),\n",
       " (('turned', 'first', 'thing'), 65),\n",
       " (('first', 'thing', 'hear'), 65),\n",
       " (('thing', 'hear', 'debate'), 65),\n",
       " (('hear', 'debate', 'policy'), 65),\n",
       " (('debate', 'policy', 'specifics'), 65),\n",
       " (('policy', 'specifics', 'energy'), 65),\n",
       " (('specifics', 'energy', 'id'), 65),\n",
       " (('turned', 'first', 'thing', 'hear'), 65),\n",
       " (('first', 'thing', 'hear', 'debate'), 65),\n",
       " (('thing', 'hear', 'debate', 'policy'), 65),\n",
       " (('hear', 'debate', 'policy', 'specifics'), 65),\n",
       " (('debate', 'policy', 'specifics', 'energy'), 65),\n",
       " (('policy', 'specifics', 'energy', 'id'), 65),\n",
       " (('talking', 'banning'), 43),\n",
       " (('banning', 'double'), 43),\n",
       " (('double', 'cheese'), 43),\n",
       " (('cheese', 'burgers'), 43)]"
      ]
     },
     "execution_count": 17,
     "metadata": {},
     "output_type": "execute_result"
    }
   ],
   "source": [
    "#Calculate a range of ngrams using some handy functions\n",
    "top_grams = Counter(everygrams(tokens, min_len=2, max_len=4))\n",
    "\n",
    "top_grams.most_common(25)"
   ]
  },
  {
   "cell_type": "markdown",
   "metadata": {},
   "source": [
    "Using these top n-grams, we can see the phrases \" turned first, thing hear, talking banning, co\" were very common during the debate. This adds noise to the data along with the viral discussiong regarding burgers and fries floating around during the campaign indicating individuals were very interested in this gag tweet"
   ]
  },
  {
   "cell_type": "code",
   "execution_count": 18,
   "metadata": {
    "scrolled": true
   },
   "outputs": [
    {
     "name": "stdout",
     "output_type": "stream",
     "text": [
      "(506, 1)\n"
     ]
    }
   ],
   "source": [
    "# Create a filter series matching \"banning\"\n",
    "searchfor = ['thing','banning','co']\n",
    "mask_1 = tweet_df.tweet_text_cleaned.str.lower().str.contains('|'.join(searchfor))\n",
    "\n",
    "#Check number of tweets that are creating noise\n",
    "print(tweet_df[mask_1][['tweet_text_cleaned']].shape)"
   ]
  },
  {
   "cell_type": "markdown",
   "metadata": {},
   "source": [
    "These tweets don't appear to be on topic as the most common tokens appear to have a lot of noise. We will remove allt tweets with the mask applied above and rerun our n-gram efforts"
   ]
  },
  {
   "cell_type": "code",
   "execution_count": 19,
   "metadata": {},
   "outputs": [],
   "source": [
    "tweet_df = tweet_df[~mask_1].reset_index(drop=True)"
   ]
  },
  {
   "cell_type": "code",
   "execution_count": 20,
   "metadata": {},
   "outputs": [],
   "source": [
    "#Recheck tokens\n",
    "tweets_without_noise = tweet_df.tweet_text_cleaned"
   ]
  },
  {
   "cell_type": "code",
   "execution_count": 21,
   "metadata": {},
   "outputs": [
    {
     "name": "stdout",
     "output_type": "stream",
     "text": [
      "Total Number Of Tokens: 4240\n"
     ]
    }
   ],
   "source": [
    "tokens = get_all_tokens(tweets_without_noise)\n",
    "\n",
    "print('Total Number Of Tokens: {}'.format(len(tokens)))"
   ]
  },
  {
   "cell_type": "code",
   "execution_count": 22,
   "metadata": {},
   "outputs": [
    {
     "data": {
      "text/plain": [
       "[(('elizabeth', 'warren'), 24),\n",
       " (('see', 'andrewyang'), 16),\n",
       " (('forward', 'hearing'), 16),\n",
       " (('bernie', 'sanders'), 16),\n",
       " (('excited', 'see'), 15),\n",
       " (('excited', 'see', 'andrewyang'), 15),\n",
       " (('retweet', 'excited'), 14),\n",
       " (('andrewyang', 'tonight'), 14),\n",
       " (('tonight', 'look'), 14),\n",
       " (('look', 'forward'), 14),\n",
       " (('hearing', 'say'), 14),\n",
       " (('every', 'democrat'), 14),\n",
       " (('democrat', 'running'), 14),\n",
       " (('retweet', 'excited', 'see'), 14),\n",
       " (('see', 'andrewyang', 'tonight'), 14),\n",
       " (('andrewyang', 'tonight', 'look'), 14),\n",
       " (('tonight', 'look', 'forward'), 14),\n",
       " (('look', 'forward', 'hearing'), 14),\n",
       " (('forward', 'hearing', 'say'), 14),\n",
       " (('every', 'democrat', 'running'), 14),\n",
       " (('retweet', 'excited', 'see', 'andrewyang'), 14),\n",
       " (('excited', 'see', 'andrewyang', 'tonight'), 14),\n",
       " (('see', 'andrewyang', 'tonight', 'look'), 14),\n",
       " (('andrewyang', 'tonight', 'look', 'forward'), 14),\n",
       " (('tonight', 'look', 'forward', 'hearing'), 14)]"
      ]
     },
     "execution_count": 22,
     "metadata": {},
     "output_type": "execute_result"
    }
   ],
   "source": [
    "#Calculate a range of ngrams using some handy functions\n",
    "top_grams = Counter(everygrams(tokens, min_len=2, max_len=4))\n",
    "\n",
    "top_grams.most_common(25)"
   ]
  },
  {
   "cell_type": "markdown",
   "metadata": {},
   "source": [
    "Removing noisy tweets exposed underlying trends in the tweets which are more representative of potential topics in the debate with `elizabeth warren` frequently appearing in texts along with `joe biden`, `running president`, `abortion birth`."
   ]
  },
  {
   "cell_type": "markdown",
   "metadata": {},
   "source": [
    "We will now gather additional tweet data to run the rest of our analysis"
   ]
  },
  {
   "cell_type": "code",
   "execution_count": null,
   "metadata": {},
   "outputs": [],
   "source": [
    "get_topic_tweets(file_name=\"election_2020_15000.csv\",topic='DemocraticDebate ', date_start = '2019-09-12', date_end = '2019-09-13', num_tweets=15000)"
   ]
  },
  {
   "cell_type": "markdown",
   "metadata": {},
   "source": [
    "Let's do our quick inspection process again. We'll print out our n-grams and a time-series plot of minute-duration counts."
   ]
  },
  {
   "cell_type": "code",
   "execution_count": null,
   "metadata": {},
   "outputs": [],
   "source": [
    "#Read in tweet data\n",
    "tweet_df = pd.read_csv('election_2020_15000.csv')\n",
    "\n",
    "tweet_df.head()"
   ]
  },
  {
   "cell_type": "code",
   "execution_count": null,
   "metadata": {},
   "outputs": [],
   "source": [
    "tweet_df.dtypes"
   ]
  },
  {
   "cell_type": "code",
   "execution_count": null,
   "metadata": {},
   "outputs": [],
   "source": [
    "#Convert object type to datetime stamp\n",
    "tweet_df['time_stamp'] = pd.to_datetime(tweet_df['time_stamp'], errors='coerce');"
   ]
  },
  {
   "cell_type": "code",
   "execution_count": null,
   "metadata": {
    "scrolled": false
   },
   "outputs": [],
   "source": [
    "#Plot a time series\n",
    "(tweet_df[['time_stamp','tweet_text']].set_index('time_stamp')\n",
    " # 'T' = minute\n",
    " .resample('T')\n",
    " .count()\n",
    " .plot(figsize=(10,7), label='1-Hour Counts', title='Hourly Tweet Count')\n",
    ");"
   ]
  },
  {
   "cell_type": "code",
   "execution_count": null,
   "metadata": {},
   "outputs": [],
   "source": [
    "#Remove Urls\n",
    "tweet_df.tweet_text = tweet_df.tweet_text.apply(Find_Url)\n",
    "\n",
    "#Apply Filters To New Data\n",
    "apply_fitlers(tweet_df, 'tweet_text', 'tweet_text_cleaned');"
   ]
  },
  {
   "cell_type": "code",
   "execution_count": null,
   "metadata": {},
   "outputs": [],
   "source": [
    "#Tokenize Text and remove english stop words\n",
    "remove_lang_stop_words_and_tokenize(lang='english',df=tweet_df,column='tweet_text_cleaned');"
   ]
  },
  {
   "cell_type": "code",
   "execution_count": null,
   "metadata": {},
   "outputs": [],
   "source": [
    "#Remove tweets that include discusson of burgers\n",
    "# Create a filter series matching \"banning\"\n",
    "mask = tweet_df.tweet_text_cleaned.str.lower().str.contains(\"banning\")\n",
    "\n",
    "#Check number of tweets that are creating noise\n",
    "print(tweet_df[mask][['tweet_text_cleaned']].shape)\n",
    "\n",
    "tweet_df = tweet_df[~mask].reset_index(drop=True)\n",
    "\n",
    "tweets_without_noise = tweet_df.tweet_text_cleaned"
   ]
  },
  {
   "cell_type": "code",
   "execution_count": null,
   "metadata": {},
   "outputs": [],
   "source": [
    "tokens = get_all_tokens(tweets_without_noise)\n",
    "\n",
    "print('Total Number Of Tokens: {}'.format(len(tokens)))"
   ]
  },
  {
   "cell_type": "code",
   "execution_count": null,
   "metadata": {},
   "outputs": [],
   "source": [
    "#Calculate a range of ngrams using some handy functions\n",
    "top_grams = Counter(everygrams(tokens, min_len=2, max_len=4))\n",
    "\n",
    "top_grams.most_common(25)"
   ]
  },
  {
   "cell_type": "markdown",
   "metadata": {},
   "source": [
    "Now we can see that our first query was way out in the small tail of data volumne (to the X in our chart, toward the chosen end date). Our query now moves further back into the large-volume region. Event with a Tweet count limit of many thousands, we're still only covering a few hours of the last day!\n",
    "\n",
    "Given both the narrow timeframes and X, it's possible that our data collection will be heavily weighted towards a canidate. If we collected the data back to the beginning of the debate, we would likely see additional topics surface in our analysis, and possible better represent the full bredth of discussion around the debate. \n",
    "\n",
    "Nevertheless, we can still move forward with our modeling. Let's set the stage by asking, simply: how many users are we looking at?"
   ]
  },
  {
   "cell_type": "code",
   "execution_count": null,
   "metadata": {},
   "outputs": [],
   "source": [
    "unique_user_cnt = len(set(tweet_df['uid']))"
   ]
  },
  {
   "cell_type": "markdown",
   "metadata": {},
   "source": [
    "Now that we have a bunch of useful data, let's see what kinds of groups of users we can identify in this collection. \n",
    "\n",
    "The first thing we'll do is step back to reconsider those rudimentary processing procedures we just used, and add some sophistication."
   ]
  },
  {
   "cell_type": "markdown",
   "metadata": {},
   "source": [
    "## Source data\n",
    "We're going to apply clustering algorithms (a form of unsupervised learning) to a set of users and some of the text data that represents them, and there are many ways of consolidating some amount of data to represent a single user. You could use the users' most recent (single) Tweet, their most recent 30-days worth of Tweets (concatenated in one long string), you could pull out all of the URLs users shared, or the other users that they mentioned explicitly in their Tweets.\n",
    "\n",
    "For this example, we'll represent each user by the free-form text field that the user manually enters in their profile to describe themselves, commonly called the \"user bio\" or the \"bio.\" "
   ]
  },
  {
   "cell_type": "code",
   "execution_count": null,
   "metadata": {},
   "outputs": [],
   "source": []
  }
 ],
 "metadata": {
  "kernelspec": {
   "display_name": "Python 3",
   "language": "python",
   "name": "python3"
  },
  "language_info": {
   "codemirror_mode": {
    "name": "ipython",
    "version": 3
   },
   "file_extension": ".py",
   "mimetype": "text/x-python",
   "name": "python",
   "nbconvert_exporter": "python",
   "pygments_lexer": "ipython3",
   "version": "3.6.8"
  }
 },
 "nbformat": 4,
 "nbformat_minor": 2
}
